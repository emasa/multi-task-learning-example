{
 "cells": [
  {
   "cell_type": "code",
   "execution_count": 1,
   "metadata": {},
   "outputs": [],
   "source": [
    "import numpy as np\n",
    "np.random.seed(0)"
   ]
  },
  {
   "cell_type": "markdown",
   "metadata": {},
   "source": [
    "# Evaluate on synthetic data"
   ]
  },
  {
   "cell_type": "code",
   "execution_count": 2,
   "metadata": {},
   "outputs": [],
   "source": [
    "N = 100\n",
    "nb_epoch = 2000\n",
    "batch_size = 20\n",
    "nb_features = 1024\n",
    "Q = 1\n",
    "D1 = 1  # first output\n",
    "D2 = 1  # second output"
   ]
  },
  {
   "cell_type": "code",
   "execution_count": 3,
   "metadata": {},
   "outputs": [],
   "source": [
    "def gen_data(N):\n",
    "    X = np.random.randn(N, Q)\n",
    "    w1 = 2.\n",
    "    b1 = 8.\n",
    "    sigma1 = 1e1  # ground truth\n",
    "    Y1 = X.dot(w1) + b1 + sigma1 * np.random.randn(N, D1)\n",
    "    w2 = 3\n",
    "    b2 = 3.\n",
    "    sigma2 = 1e0  # ground truth\n",
    "    Y2 = X.dot(w2) + b2 + sigma2 * np.random.randn(N, D2)\n",
    "    return X, Y1, Y2"
   ]
  },
  {
   "cell_type": "code",
   "execution_count": 4,
   "metadata": {},
   "outputs": [
    {
     "data": {
      "image/png": "[encoded data removed]",
      "text/plain": [
       "<matplotlib.figure.Figure at 0x7f273239f828>"
      ]
     },
     "metadata": {},
     "output_type": "display_data"
    }
   ],
   "source": [
    "import matplotlib.pyplot as plt\n",
    "%matplotlib inline\n",
    "\n",
    "X, Y1, Y2 = gen_data(N)\n",
    "plt.figure()\n",
    "plt.scatter(X[:, 0], Y1[:, 0])\n",
    "plt.scatter(X[:, 0], Y2[:, 0])\n",
    "plt.show()"
   ]
  },
  {
   "cell_type": "markdown",
   "metadata": {},
   "source": [
    "# Multi loss layer"
   ]
  },
  {
   "cell_type": "code",
   "execution_count": null,
   "metadata": {},
   "outputs": [],
   "source": [
    "import keras\n",
    "from keras.initializers import Constant\n",
    "from keras.layers import Layer\n",
    "from keras.models import Model\n",
    "from keras import backend as K\n",
    "\n",
    "# TODO: is Lambda needed ?\n",
    "\n",
    "class AutoMultiLossLayer(Layer):\n",
    "    def __init__(self, nb_outputs=2, **kwargs):\n",
    "        self.nb_outputs = nb_outputs\n",
    "        self.is_placeholder = True\n",
    "        super(AutoMultiLossLayer, self).__init__(**kwargs)\n",
    "        \n",
    "    def build(self, input_shape=None):\n",
    "        # initialise log_vars\n",
    "        # keep the tensor used in the automatic weighting multi-loss\n",
    "        self.log_vars = [self.add_weight(name='log_var' + str(idx), shape=(1,),\n",
    "                                         initializer=Constant(2.), trainable=True)\n",
    "                         for idx in range(self.nb_outputs)]\n",
    "        super(AutoMultiLossLayer, self).build(input_shape)\n",
    "        \n",
    "    def call(self, inputs):\n",
    "        # don't use inputs, returns internal weights\n",
    "        return K.concatenate(self.log_vars, -1)\n",
    "\n",
    "    def get_auto_weighted_loss(self, index, loss_func):\n",
    "        assert 0 <= index < self.nb_outputs        \n",
    "        # compute log(sigma^2)\n",
    "        log_var = self.log_vars[index][0]\n",
    "        # weighted loss for indexed weight\n",
    "        def _loss(y_true, y_pred):\n",
    "            # TODO: check if the formula is correct\n",
    "            # Expected formula: (1 / (2 * sigma^2)) * loss_func(y_true, y_pred) + log(sigma^2)\n",
    "            return K.exp(-log_var) * loss_func(y_true, y_pred) + log_var\n",
    "\n",
    "        return _loss\n",
    "        \n",
    "    def get_sigma(self):\n",
    "        # sigma = sqrt(exp(log_var))\n",
    "        return [np.exp(K.get_value(log_var[0]))**0.5 for log_var in self.log_vars]\n",
    "    \n",
    "class AutoMultiLossWrapper(object):\n",
    "    \n",
    "    def __init__(self, model):\n",
    "        self.original_model = model\n",
    "        self.model = None\n",
    "        self._auto_weighted_loss = False\n",
    "\n",
    "    def compile(self, optimizer, loss, loss_weights=None, **kwargs):        \n",
    "        self._auto_weighted_loss = False\n",
    "\n",
    "        self.model = self.original_model\n",
    "        # compute auto multi-loss only when loss is specified and \n",
    "        # there are atleast two outputs          \n",
    "        if loss_weights == 'auto' and loss and len(self.model.outputs) > 1:\n",
    "            n_losses = len(self.model.outputs)\n",
    "            dummy_layer = AutoMultiLossLayer(n_losses, \n",
    "                                             name=\"auto_loss_w\")(self.model.outputs)\n",
    "            # add a dummy output to the graph to make the weights trainable\n",
    "            self.model = Model(self.model.inputs, self.model.outputs + [dummy_layer])\n",
    "            \n",
    "            loss = self._get_losses(loss)\n",
    "\n",
    "            self._auto_weighted_loss = True\n",
    "\n",
    "        # fix parameter for keras api\n",
    "        # by setting loss_weights to None, keras treats all losses equally\n",
    "        if loss_weights == 'auto':\n",
    "            loss_weights = None\n",
    "                    \n",
    "        self.model.compile(optimizer, loss, loss_weights=loss_weights, **kwargs)\n",
    "    \n",
    "    def _get_losses(self, loss):\n",
    "        loss_factory = self.model.get_layer(\"auto_loss_w\").get_auto_weighted_loss\n",
    "        # deals with losses in the same way that keras model.compile method\n",
    "        # allows compatibility\n",
    "        if isinstance(loss, dict):\n",
    "            loss_keys = sorted(loss.keys())\n",
    "\n",
    "            new_loss = {name : loss_factory(loss_idx, keras.losses.get(loss.get(name)))\n",
    "                        for loss_idx, name in enumerate(loss_keys)}\n",
    "            # keras doesn't consider an output when its loss is set to None\n",
    "            # skip dummy output\n",
    "            new_loss['auto_loss_w'] = None\n",
    "\n",
    "        elif isinstance(loss, list):\n",
    "            new_loss = [loss_factory(loss_idx, keras.losses.get(name))\n",
    "                        for loss_idx, name in enumerate(loss)]\n",
    "            # skip dummy output\n",
    "            new_loss.append(None)\n",
    "\n",
    "        else:\n",
    "            loss_func = keras.losses.get(loss)\n",
    "            new_loss = [loss_factory(loss_idx, loss_func)\n",
    "                        for loss_idx in range(len(self.original_model.outputs))]\n",
    "            # skip dummy output\n",
    "            new_loss.append(None)\n",
    "\n",
    "        return new_loss\n",
    "    \n",
    "    def get_sigma(self):\n",
    "        if self._auto_weighted_loss:\n",
    "            return self.model.get_layer('auto_loss_w').get_sigma()\n",
    "        else:\n",
    "            return None"
   ]
  },
  {
   "cell_type": "markdown",
   "metadata": {},
   "source": [
    "# Example model"
   ]
  },
  {
   "cell_type": "code",
   "execution_count": 6,
   "metadata": {},
   "outputs": [],
   "source": [
    "from keras.layers import Input, Dense\n",
    "from keras.models import Model\n",
    "\n",
    "# model example\n",
    "def get_prediction_model():\n",
    "    inp = Input(shape=(Q,), name='input')\n",
    "    x = Dense(nb_features, activation='relu')(inp)  \n",
    "    y1_pred = Dense(D1, name='y1')(x)\n",
    "    y2_pred = Dense(D2, name='y2')(x)\n",
    "    return Model(inp, [y1_pred, y2_pred])\n",
    "\n",
    "auto_ml_wrapper = AutoMultiLossWrapper(get_prediction_model())\n",
    "\n",
    "# identical to model.compile except that accepts loss_weights='auto'\n",
    "auto_ml_wrapper.compile(optimizer='adam',\n",
    "                        loss='mse',\n",
    "#                        loss={'y1': 'mse', 'y2': 'mse'},\n",
    "#                        loss=['mse', 'mse'],\n",
    "                        loss_weights='auto'\n",
    "                       )"
   ]
  },
  {
   "cell_type": "code",
   "execution_count": 7,
   "metadata": {},
   "outputs": [
    {
     "name": "stdout",
     "output_type": "stream",
     "text": [
      "__________________________________________________________________________________________________\n",
      "Layer (type)                    Output Shape         Param #     Connected to                     \n",
      "==================================================================================================\n",
      "input (InputLayer)              (None, 1)            0                                            \n",
      "__________________________________________________________________________________________________\n",
      "dense_1 (Dense)                 (None, 1024)         2048        input[0][0]                      \n",
      "__________________________________________________________________________________________________\n",
      "y1 (Dense)                      (None, 1)            1025        dense_1[0][0]                    \n",
      "__________________________________________________________________________________________________\n",
      "y2 (Dense)                      (None, 1)            1025        dense_1[0][0]                    \n",
      "__________________________________________________________________________________________________\n",
      "auto_loss_w (AutoMultiLossLayer [(None, 1), (None, 1 2           y1[0][0]                         \n",
      "                                                                 y2[0][0]                         \n",
      "==================================================================================================\n",
      "Total params: 4,100\n",
      "Trainable params: 4,100\n",
      "Non-trainable params: 0\n",
      "__________________________________________________________________________________________________\n"
     ]
    }
   ],
   "source": [
    "# the extended model contains the dummy layer at the end\n",
    "trainable_model = auto_ml_wrapper.model\n",
    "trainable_model.summary()"
   ]
  },
  {
   "cell_type": "code",
   "execution_count": 8,
   "metadata": {
    "scrolled": true
   },
   "outputs": [],
   "source": [
    "# train extended model\n",
    "# deals with the dummy output internally\n",
    "hist = trainable_model.fit(X, [Y1, Y2], epochs=nb_epoch, batch_size=batch_size, verbose=0)"
   ]
  },
  {
   "cell_type": "code",
   "execution_count": 9,
   "metadata": {},
   "outputs": [
    {
     "data": {
      "text/plain": [
       "[<matplotlib.lines.Line2D at 0x7f271c2724e0>]"
      ]
     },
     "execution_count": 9,
     "metadata": {},
     "output_type": "execute_result"
    },
    {
     "data": {
      "image/png": "[encoded data removed]",
      "text/plain": [
       "<matplotlib.figure.Figure at 0x7f2732b72a20>"
      ]
     },
     "metadata": {},
     "output_type": "display_data"
    }
   ],
   "source": [
    "# auto weighted multi-loss\n",
    "plt.plot(hist.history['loss'])"
   ]
  },
  {
   "cell_type": "code",
   "execution_count": 10,
   "metadata": {},
   "outputs": [
    {
     "data": {
      "text/plain": [
       "[9.99149227631763, 0.9210849868318729]"
      ]
     },
     "execution_count": 10,
     "metadata": {},
     "output_type": "execute_result"
    }
   ],
   "source": [
    "# Found standard deviations (ground truth is 10 and 1)\n",
    "auto_ml_wrapper.get_sigma()"
   ]
  },
  {
   "cell_type": "code",
   "execution_count": 11,
   "metadata": {},
   "outputs": [
    {
     "name": "stdout",
     "output_type": "stream",
     "text": [
      "__________________________________________________________________________________________________\n",
      "Layer (type)                    Output Shape         Param #     Connected to                     \n",
      "==================================================================================================\n",
      "input (InputLayer)              (None, 1)            0                                            \n",
      "__________________________________________________________________________________________________\n",
      "dense_1 (Dense)                 (None, 1024)         2048        input[0][0]                      \n",
      "__________________________________________________________________________________________________\n",
      "y1 (Dense)                      (None, 1)            1025        dense_1[0][0]                    \n",
      "__________________________________________________________________________________________________\n",
      "y2 (Dense)                      (None, 1)            1025        dense_1[0][0]                    \n",
      "==================================================================================================\n",
      "Total params: 4,098\n",
      "Trainable params: 4,098\n",
      "Non-trainable params: 0\n",
      "__________________________________________________________________________________________________\n"
     ]
    }
   ],
   "source": [
    "# original model can be used for predictions\n",
    "prediction_model = auto_ml_wrapper.original_model\n",
    "prediction_model.summary()"
   ]
  },
  {
   "cell_type": "code",
   "execution_count": 12,
   "metadata": {},
   "outputs": [
    {
     "data": {
      "image/png": "[encoded data removed]",
      "text/plain": [
       "<matplotlib.figure.Figure at 0x7f27303d3630>"
      ]
     },
     "metadata": {},
     "output_type": "display_data"
    }
   ],
   "source": [
    "import matplotlib.pyplot as plt\n",
    "%matplotlib inline\n",
    "\n",
    "Y1_pred, Y2_pred = prediction_model.predict(X)\n",
    "plt.figure()\n",
    "plt.scatter(X[:, 0], Y1_pred[:, 0])\n",
    "plt.scatter(X[:, 0], Y2_pred[:, 0])\n",
    "plt.show()"
   ]
  }
 ],
 "metadata": {
  "kernelspec": {
   "display_name": "Python 3",
   "language": "python",
   "name": "python3"
  },
  "language_info": {
   "codemirror_mode": {
    "name": "ipython",
    "version": 3
   },
   "file_extension": ".py",
   "mimetype": "text/x-python",
   "name": "python",
   "nbconvert_exporter": "python",
   "pygments_lexer": "ipython3",
   "version": "3.6.3"
  }
 },
 "nbformat": 4,
 "nbformat_minor": 1
}
